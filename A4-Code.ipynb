{
 "cells": [
  {
   "cell_type": "code",
   "execution_count": 2,
   "metadata": {},
   "outputs": [],
   "source": [
    "import numpy as np\n",
    "import pandas as pd"
   ]
  },
  {
   "cell_type": "markdown",
   "metadata": {},
   "source": [
    "#### Read in files"
   ]
  },
  {
   "cell_type": "code",
   "execution_count": 11,
   "metadata": {},
   "outputs": [],
   "source": [
    "lines = []\n",
    "with open('lm.txt') as f:\n",
    "    lines = f.readlines()\n",
    "\n",
    "count = 0\n",
    "for line in lines:\n",
    "    count += 1\n",
    "#     print(f'line {count}: {line}')  "
   ]
  },
  {
   "cell_type": "code",
   "execution_count": 16,
   "metadata": {},
   "outputs": [],
   "source": [
    "# lines"
   ]
  },
  {
   "cell_type": "code",
   "execution_count": 17,
   "metadata": {},
   "outputs": [],
   "source": [
    "lines_tidy = [x.replace(\"\\t\", \" \") for x in lines]\n",
    "lines_final = [x.replace(\"\\n\", \" \") for x in lines_tidy]"
   ]
  },
  {
   "cell_type": "code",
   "execution_count": 21,
   "metadata": {},
   "outputs": [
    {
     "data": {
      "text/plain": [
       "['<start> <start> 2.1782695826435478e-05 ', '<start> T 0.20767622200923586 ']"
      ]
     },
     "execution_count": 21,
     "metadata": {},
     "output_type": "execute_result"
    }
   ],
   "source": [
    "lines_final[:2]"
   ]
  },
  {
   "cell_type": "code",
   "execution_count": 31,
   "metadata": {},
   "outputs": [],
   "source": [
    "new_list = []\n",
    "for each in lines_final:\n",
    "    new_list.append(each.split(\" \"))"
   ]
  },
  {
   "cell_type": "code",
   "execution_count": 33,
   "metadata": {},
   "outputs": [
    {
     "data": {
      "text/plain": [
       "[['<start>', '<start>', '2.1782695826435478e-05', ''],\n",
       " ['<start>', 'T', '0.20767622200923586', '']]"
      ]
     },
     "execution_count": 33,
     "metadata": {},
     "output_type": "execute_result"
    }
   ],
   "source": [
    "new_list[:2]"
   ]
  },
  {
   "cell_type": "code",
   "execution_count": 42,
   "metadata": {},
   "outputs": [],
   "source": [
    "df_tran_pred = pd.DataFrame(new_list, columns = ['char_1', 'char_2', 'prob', 'n'])  "
   ]
  },
  {
   "cell_type": "code",
   "execution_count": 43,
   "metadata": {},
   "outputs": [],
   "source": [
    "df_tran = df_tran_pred.iloc[:, :-1]"
   ]
  },
  {
   "cell_type": "code",
   "execution_count": 44,
   "metadata": {},
   "outputs": [
    {
     "data": {
      "text/html": [
       "<div>\n",
       "<style scoped>\n",
       "    .dataframe tbody tr th:only-of-type {\n",
       "        vertical-align: middle;\n",
       "    }\n",
       "\n",
       "    .dataframe tbody tr th {\n",
       "        vertical-align: top;\n",
       "    }\n",
       "\n",
       "    .dataframe thead th {\n",
       "        text-align: right;\n",
       "    }\n",
       "</style>\n",
       "<table border=\"1\" class=\"dataframe\">\n",
       "  <thead>\n",
       "    <tr style=\"text-align: right;\">\n",
       "      <th></th>\n",
       "      <th>char_1</th>\n",
       "      <th>char_2</th>\n",
       "      <th>prob</th>\n",
       "    </tr>\n",
       "  </thead>\n",
       "  <tbody>\n",
       "    <tr>\n",
       "      <th>0</th>\n",
       "      <td>&lt;start&gt;</td>\n",
       "      <td>&lt;start&gt;</td>\n",
       "      <td>2.1782695826435478e-05</td>\n",
       "    </tr>\n",
       "    <tr>\n",
       "      <th>1</th>\n",
       "      <td>&lt;start&gt;</td>\n",
       "      <td>T</td>\n",
       "      <td>0.20767622200923586</td>\n",
       "    </tr>\n",
       "    <tr>\n",
       "      <th>2</th>\n",
       "      <td>&lt;start&gt;</td>\n",
       "      <td>h</td>\n",
       "      <td>0.003027794719874532</td>\n",
       "    </tr>\n",
       "    <tr>\n",
       "      <th>3</th>\n",
       "      <td>&lt;start&gt;</td>\n",
       "      <td>e</td>\n",
       "      <td>0.0008277424414045482</td>\n",
       "    </tr>\n",
       "    <tr>\n",
       "      <th>4</th>\n",
       "      <td>&lt;start&gt;</td>\n",
       "      <td>&lt;s&gt;</td>\n",
       "      <td>2.1782695826435478e-05</td>\n",
       "    </tr>\n",
       "  </tbody>\n",
       "</table>\n",
       "</div>"
      ],
      "text/plain": [
       "    char_1   char_2                    prob\n",
       "0  <start>  <start>  2.1782695826435478e-05\n",
       "1  <start>        T     0.20767622200923586\n",
       "2  <start>        h    0.003027794719874532\n",
       "3  <start>        e   0.0008277424414045482\n",
       "4  <start>      <s>  2.1782695826435478e-05"
      ]
     },
     "execution_count": 44,
     "metadata": {},
     "output_type": "execute_result"
    }
   ],
   "source": [
    "df_tran.head()"
   ]
  },
  {
   "cell_type": "markdown",
   "metadata": {},
   "source": [
    "#### Get transition matrix"
   ]
  },
  {
   "cell_type": "code",
   "execution_count": 51,
   "metadata": {},
   "outputs": [],
   "source": [
    "all_chars = set(df_tran['char_2'].unique()).union(set(df_tran['char_1'].unique()))"
   ]
  },
  {
   "cell_type": "code",
   "execution_count": 52,
   "metadata": {
    "collapsed": true,
    "jupyter": {
     "outputs_hidden": true
    }
   },
   "outputs": [
    {
     "data": {
      "text/plain": [
       "{'!',\n",
       " '$',\n",
       " '%',\n",
       " '&',\n",
       " \"'\",\n",
       " '(',\n",
       " ')',\n",
       " '*',\n",
       " '+',\n",
       " ',',\n",
       " '-',\n",
       " '.',\n",
       " '/',\n",
       " '0',\n",
       " '1',\n",
       " '2',\n",
       " '3',\n",
       " '4',\n",
       " '5',\n",
       " '6',\n",
       " '7',\n",
       " '8',\n",
       " '9',\n",
       " ':',\n",
       " ';',\n",
       " '<eos>',\n",
       " '<s>',\n",
       " '<start>',\n",
       " '?',\n",
       " 'A',\n",
       " 'B',\n",
       " 'C',\n",
       " 'D',\n",
       " 'E',\n",
       " 'F',\n",
       " 'G',\n",
       " 'H',\n",
       " 'I',\n",
       " 'J',\n",
       " 'K',\n",
       " 'L',\n",
       " 'M',\n",
       " 'N',\n",
       " 'O',\n",
       " 'P',\n",
       " 'Q',\n",
       " 'R',\n",
       " 'S',\n",
       " 'T',\n",
       " 'U',\n",
       " 'V',\n",
       " 'W',\n",
       " 'X',\n",
       " 'Y',\n",
       " 'Z',\n",
       " '[',\n",
       " ']',\n",
       " '`',\n",
       " 'a',\n",
       " 'b',\n",
       " 'c',\n",
       " 'd',\n",
       " 'e',\n",
       " 'f',\n",
       " 'g',\n",
       " 'h',\n",
       " 'i',\n",
       " 'j',\n",
       " 'k',\n",
       " 'l',\n",
       " 'm',\n",
       " 'n',\n",
       " 'o',\n",
       " 'p',\n",
       " 'q',\n",
       " 'r',\n",
       " 's',\n",
       " 't',\n",
       " 'u',\n",
       " 'v',\n",
       " 'w',\n",
       " 'x',\n",
       " 'y',\n",
       " 'z',\n",
       " '{',\n",
       " '}'}"
      ]
     },
     "execution_count": 52,
     "metadata": {},
     "output_type": "execute_result"
    }
   ],
   "source": [
    "all_chars"
   ]
  },
  {
   "cell_type": "code",
   "execution_count": 56,
   "metadata": {},
   "outputs": [],
   "source": [
    "char_trans_array = np.zeros((len(all_chars), len(all_chars)))\n",
    "for i, row_char in enumerate(all_chars):\n",
    "    for j, column_char in enumerate(all_chars):\n",
    "        char_trans_array[i, j] = df_tran[\n",
    "            (df_tran['char_1'] == row_char) &\\\n",
    "            (df_tran['char_2'] == column_char)\n",
    "        ]['prob']  "
   ]
  },
  {
   "cell_type": "code",
   "execution_count": 61,
   "metadata": {},
   "outputs": [],
   "source": [
    "df_char_trans = pd.DataFrame(\n",
    "    char_trans_array,\n",
    "    index=all_chars,\n",
    "    columns=all_chars\n",
    ")"
   ]
  },
  {
   "cell_type": "code",
   "execution_count": 57,
   "metadata": {},
   "outputs": [
    {
     "data": {
      "text/plain": [
       "(86, 86)"
      ]
     },
     "execution_count": 57,
     "metadata": {},
     "output_type": "execute_result"
    }
   ],
   "source": [
    "char_trans_array.shape"
   ]
  },
  {
   "cell_type": "code",
   "execution_count": 70,
   "metadata": {},
   "outputs": [
    {
     "data": {
      "text/plain": [
       "array([2.95666417e-06])"
      ]
     },
     "execution_count": 70,
     "metadata": {},
     "output_type": "execute_result"
    }
   ],
   "source": [
    "df_char_trans[df_char_trans.index=='t']['%'].values"
   ]
  },
  {
   "cell_type": "code",
   "execution_count": 71,
   "metadata": {},
   "outputs": [
    {
     "data": {
      "text/plain": [
       "array([0.00485437])"
      ]
     },
     "execution_count": 71,
     "metadata": {},
     "output_type": "execute_result"
    }
   ],
   "source": [
    "df_char_trans[df_char_trans.index=='%']['t'].values"
   ]
  },
  {
   "cell_type": "code",
   "execution_count": 68,
   "metadata": {},
   "outputs": [
    {
     "data": {
      "text/html": [
       "<div>\n",
       "<style scoped>\n",
       "    .dataframe tbody tr th:only-of-type {\n",
       "        vertical-align: middle;\n",
       "    }\n",
       "\n",
       "    .dataframe tbody tr th {\n",
       "        vertical-align: top;\n",
       "    }\n",
       "\n",
       "    .dataframe thead th {\n",
       "        text-align: right;\n",
       "    }\n",
       "</style>\n",
       "<table border=\"1\" class=\"dataframe\">\n",
       "  <thead>\n",
       "    <tr style=\"text-align: right;\">\n",
       "      <th></th>\n",
       "      <th>char_1</th>\n",
       "      <th>char_2</th>\n",
       "      <th>prob</th>\n",
       "    </tr>\n",
       "  </thead>\n",
       "  <tbody>\n",
       "    <tr>\n",
       "      <th>766</th>\n",
       "      <td>t</td>\n",
       "      <td>%</td>\n",
       "      <td>2.956664173213214e-06</td>\n",
       "    </tr>\n",
       "  </tbody>\n",
       "</table>\n",
       "</div>"
      ],
      "text/plain": [
       "    char_1 char_2                   prob\n",
       "766      t      %  2.956664173213214e-06"
      ]
     },
     "execution_count": 68,
     "metadata": {},
     "output_type": "execute_result"
    }
   ],
   "source": [
    "df_tran[(df_tran['char_1'] == 't') & (df_tran['char_2'] == '%')]"
   ]
  },
  {
   "cell_type": "code",
   "execution_count": 69,
   "metadata": {},
   "outputs": [
    {
     "data": {
      "text/html": [
       "<div>\n",
       "<style scoped>\n",
       "    .dataframe tbody tr th:only-of-type {\n",
       "        vertical-align: middle;\n",
       "    }\n",
       "\n",
       "    .dataframe tbody tr th {\n",
       "        vertical-align: top;\n",
       "    }\n",
       "\n",
       "    .dataframe thead th {\n",
       "        text-align: right;\n",
       "    }\n",
       "</style>\n",
       "<table border=\"1\" class=\"dataframe\">\n",
       "  <thead>\n",
       "    <tr style=\"text-align: right;\">\n",
       "      <th></th>\n",
       "      <th>char_1</th>\n",
       "      <th>char_2</th>\n",
       "      <th>prob</th>\n",
       "    </tr>\n",
       "  </thead>\n",
       "  <tbody>\n",
       "    <tr>\n",
       "      <th>6716</th>\n",
       "      <td>%</td>\n",
       "      <td>t</td>\n",
       "      <td>0.0048543689320388345</td>\n",
       "    </tr>\n",
       "  </tbody>\n",
       "</table>\n",
       "</div>"
      ],
      "text/plain": [
       "     char_1 char_2                   prob\n",
       "6716      %      t  0.0048543689320388345"
      ]
     },
     "execution_count": 69,
     "metadata": {},
     "output_type": "execute_result"
    }
   ],
   "source": [
    "df_tran[(df_tran['char_1'] == '%') & (df_tran['char_2'] == 't')]"
   ]
  },
  {
   "cell_type": "code",
   "execution_count": 73,
   "metadata": {},
   "outputs": [
    {
     "data": {
      "text/plain": [
       "array([[1.02040816e-02, 1.22448980e-01, 1.02040816e-02, ...,\n",
       "        1.02040816e-02, 1.02040816e-02, 1.02040816e-02],\n",
       "       [2.95666417e-06, 1.75478019e-02, 2.95666417e-06, ...,\n",
       "        2.95666417e-06, 2.95666417e-06, 2.95666417e-06],\n",
       "       [3.95100751e-04, 3.95100751e-04, 3.95100751e-04, ...,\n",
       "        3.95100751e-04, 3.95100751e-04, 3.95100751e-04],\n",
       "       ...,\n",
       "       [4.84966052e-04, 9.69932105e-04, 4.84966052e-04, ...,\n",
       "        4.84966052e-04, 4.84966052e-04, 4.84966052e-04],\n",
       "       [1.04166667e-03, 2.18750000e-02, 1.04166667e-03, ...,\n",
       "        1.04166667e-03, 2.81250000e-02, 2.70833333e-02],\n",
       "       [5.56173526e-04, 1.16796440e-02, 5.56173526e-04, ...,\n",
       "        5.56173526e-04, 1.11234705e-02, 1.11234705e-02]])"
      ]
     },
     "execution_count": 73,
     "metadata": {},
     "output_type": "execute_result"
    }
   ],
   "source": [
    "char_trans_array"
   ]
  },
  {
   "cell_type": "markdown",
   "metadata": {},
   "source": [
    "#### Get observation characters"
   ]
  },
  {
   "cell_type": "code",
   "execution_count": 253,
   "metadata": {},
   "outputs": [],
   "source": [
    "sentences = []\n",
    "with open('15pctmasked.txt') as f:\n",
    "    sentences = f.readlines()\n",
    "\n",
    "sentences = [s.replace('\\n', '').split() for s in sentences]\n",
    "    "
   ]
  },
  {
   "cell_type": "code",
   "execution_count": 255,
   "metadata": {},
   "outputs": [],
   "source": [
    "unique_observation_words_list = list(set(df_char_trans.index.unique()))"
   ]
  },
  {
   "cell_type": "markdown",
   "metadata": {},
   "source": [
    "#### Implement Viterbi"
   ]
  },
  {
   "cell_type": "code",
   "execution_count": 308,
   "metadata": {},
   "outputs": [],
   "source": [
    "def Viterbi(\n",
    "    characters, # sentence\n",
    "    unique_observation_words_list,\n",
    "    df_char_trans\n",
    "):\n",
    "    state = []\n",
    "    output_characters = []\n",
    "    T = unique_observation_words_list\n",
    "    for key, char in enumerate(characters):\n",
    "        #initialise list of probability column for a given observation\n",
    "        p = [] \n",
    "        if char == '<mask>': # only compute when run into a mask token\n",
    "            prev_char = characters[key-1]\n",
    "            if prev_char == '<mask>':\n",
    "                prev_char = state[-1]\n",
    "            else:\n",
    "                prev_char = characters[key-1]\n",
    "            for character in T:\n",
    "                transition_p = df_char_trans.loc[prev_char, character]\n",
    "                state_probability = 1 * transition_p    \n",
    "                p.append(state_probability)\n",
    "\n",
    "            pmax = max(p)\n",
    "            # getting state for which probability is maximum\n",
    "            state_max = T[p.index(pmax)] \n",
    "            state.append(state_max)\n",
    "            output_characters.append(state_max)\n",
    "        else:\n",
    "            output_characters.append(char)\n",
    "    return characters, output_characters"
   ]
  },
  {
   "cell_type": "markdown",
   "metadata": {},
   "source": [
    "## Check against a known sentence prediction from discussion board"
   ]
  },
  {
   "cell_type": "code",
   "execution_count": 309,
   "metadata": {},
   "outputs": [],
   "source": [
    "pred_first_sentence = Viterbi(\n",
    "    sentences[0],\n",
    "    unique_observation_words_list,\n",
    "    df_char_trans\n",
    ")"
   ]
  },
  {
   "cell_type": "code",
   "execution_count": 311,
   "metadata": {},
   "outputs": [
    {
     "name": "stdout",
     "output_type": "stream",
     "text": [
      "Correct first sentence is:\n",
      "<start>I pe mantation of Georgia'' auromobile title law was al , hecommended be the outgoing jury .<eos>\n",
      "My prediction for the first sentence is:\n",
      "<start>I pe mentation of Georgia'  auromobile title law was al t tecommended be the outgoing jury .<eos>\n"
     ]
    }
   ],
   "source": [
    "correct_first_sentence = \"<start> I <s> p e <s> m a n t a t i o n <s> o f <s> G e o r g i a ' ' <s> a u r o m o b i l e <s> t i t l e <s> l a w <s> w a s <s> a l <s> , <s> h e c o m m e n d e d <s> b e <s> t h e <s> o u t g o i n g <s> j u r y <s> . <eos>\".split(' ')\n",
    "correct_first_sentence = ''.join(correct_first_sentence).replace('<s>', ' ')\n",
    "print(f\"Correct first sentence is:\\n{correct_first_sentence}\")\n",
    "print(f\"My prediction for the first sentence is:\\n{''.join(pred_first_sentence[1]).replace('<s>', ' ')}\")"
   ]
  },
  {
   "cell_type": "code",
   "execution_count": 312,
   "metadata": {},
   "outputs": [],
   "source": [
    "pred_sentence_list = []\n",
    "for i in range(len(sentences)):\n",
    "    pred_sentence_list.append(Viterbi(\n",
    "    sentences[i],\n",
    "    unique_observation_words_list,\n",
    "    df_char_trans\n",
    "))"
   ]
  },
  {
   "cell_type": "code",
   "execution_count": 317,
   "metadata": {},
   "outputs": [],
   "source": [
    "final_pred_list = [' '.join(s[1]) for s in pred_sentence_list]"
   ]
  },
  {
   "cell_type": "code",
   "execution_count": 318,
   "metadata": {},
   "outputs": [
    {
     "data": {
      "text/plain": [
       "[\"<start> I <s> p e <s> m e n t a t i o n <s> o f <s> G e o r g i a ' <s> <s> a u r o m o b i l e <s> t i t l e <s> l a w <s> w a s <s> a l <s> t <s> t e c o m m e n d e d <s> b e <s> t h e <s> o u t g o i n g <s> j u r y <s> . <eos>\",\n",
       " '<start> T h e <s> g r e n <s> t j u r e <s> t h o n <s> a <s> s w i p e <s> a t <s> t h e <s> S t a t e <s> W e l f a r e <s> D e p a r t m e n t h s <s> h a n d <s> i n g <s> o f <s> f e <s> e r a l <s> f u r d s <s> g r a n t e d <s> f <s> r <s> c h i n d <s> w e l <s> a r e <s> t h e v i c e s <s> i n <s> t o n t h r <s> h o m e s <s> t <eos>']"
      ]
     },
     "execution_count": 318,
     "metadata": {},
     "output_type": "execute_result"
    }
   ],
   "source": [
    "final_pred_list[:2]"
   ]
  },
  {
   "cell_type": "code",
   "execution_count": 322,
   "metadata": {},
   "outputs": [],
   "source": [
    "with open('output.txt', 'wt') as f:\n",
    "    for s in final_pred_list:\n",
    "        f.write(s + '\\n')"
   ]
  }
 ],
 "metadata": {
  "kernelspec": {
   "display_name": "Python 3",
   "language": "python",
   "name": "python3"
  },
  "language_info": {
   "codemirror_mode": {
    "name": "ipython",
    "version": 3
   },
   "file_extension": ".py",
   "mimetype": "text/x-python",
   "name": "python",
   "nbconvert_exporter": "python",
   "pygments_lexer": "ipython3",
   "version": "3.7.4"
  }
 },
 "nbformat": 4,
 "nbformat_minor": 4
}
